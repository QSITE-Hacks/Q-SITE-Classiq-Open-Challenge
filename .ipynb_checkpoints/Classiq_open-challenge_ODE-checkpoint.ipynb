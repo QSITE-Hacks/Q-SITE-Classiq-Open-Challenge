{
 "cells": [
  {
   "cell_type": "markdown",
   "id": "fcd550c9",
   "metadata": {},
   "source": [
    "# Classiq Q-SITE 2024 Open Challenge - Team QubitSquad"
   ]
  },
  {
   "cell_type": "markdown",
   "id": "5cd0a4d1",
   "metadata": {},
   "source": [
    "## Introduction"
   ]
  },
  {
   "cell_type": "markdown",
   "id": "62af4d5e",
   "metadata": {},
   "source": [
    "The Classiq Q-SITE open challenge asks us to implement a quantum algorithm in the paper by Tao Xin, et al.[1] in 2020 to solve the linear differential equation $\\frac{d^2x(t)}{dt^2} + x(t) = 0$, with the condition $x(0)=1$, $\\frac{dx}{dt}(0)=1$. After the equation is solved, we are asked to: 1) Evaluate the kinetic energy $E_k=\\frac{1}{2}\\left(\\frac{dx}{dt}\\right)^2$ and the potential energy $E_p=\\frac{1}{2}x^2$ as a function of $t$, assuming both unit mass and spring constant; 2) Analyze how $E_k$ and $E_p$ vary when different values for the bounds are used in the algorithm; 3) Analyze the gate count when optimizing the circuit width and depth."
   ]
  },
  {
   "cell_type": "markdown",
   "id": "cb52b688",
   "metadata": {},
   "source": [
    "Therefore, let's start with the original algorithm suggested in the paper and see how it can be adapted to solve this challenge."
   ]
  },
  {
   "cell_type": "markdown",
   "id": "18502e3a",
   "metadata": {},
   "source": [
    "## Theory"
   ]
  },
  {
   "cell_type": "markdown",
   "id": "a7fae9cd",
   "metadata": {},
   "source": [
    "### The original quantum algorithm"
   ]
  },
  {
   "cell_type": "markdown",
   "id": "17350eff",
   "metadata": {},
   "source": [
    "The paper focuses on solving the linear differential equation (LDE) $d\\mathbf{x}(t)/dt=\\mathcal{M}\\mathbf{x}(t)+\\mathbf{b}$, where $\\mathbf{x}(t)$ and $\\mathbf{b}$ are $N$-dimensional vectors and $\\mathcal{M}$ is an arbitrary $N\\times N$ matrix. One can easily check that the analytical solution can be written as $\\mathbf{x}(t) = e^{\\mathcal{M}t}\\mathbf{x}(0) + (e^{\\mathcal{M}t} - I)\\mathcal{M}^{-1}\\mathbf{b}$, where matrix exponentials are defined by the Taylor expansion of an exponent: $e^{\\mathcal{M}t}\\equiv \\sum_{k=0}^\\infty \\frac{(\\mathcal{M}t)^k}{k!}$. While matrix inversions and matrix multiplications scale at least as $O(N^3)$ classically, a quantum algorithm is capable of achieving an $O(\\log N)$ speedup in time complexity for this problem. The solution $\\mathbf{x}(t)$ can first be approximated as a Taylor expansion:\n",
    "$$\n",
    "\\begin{align}\n",
    "    \\mathbf{x}(t) \\approx \\sum_{m=0}^k\\frac{(\\mathcal{M}t)^m}{m!}\\mathbf{x}(0) + \\sum_{n=1}^k \\frac{(\\mathcal{M}t)^{n-1}t}{n!}\\mathbf{b}  \\hspace{5cm} (1)\n",
    "\\end{align}\n",
    "$$\n",
    "where the integer $k$ gives the approximation order ($k\\rightarrow\\infty$ for perfect solution). We can encode the vectors $\\mathbf{x}(0)$ and $\\mathbf{b}$ as normarlized quantum states: $|x(0)\\rangle = \\sum_jx_j(0)/||x(0)||\\cdot|j\\rangle$, $|b\\rangle = \\sum_jb_j/||b||\\cdot|j\\rangle$, and represent the matrix $\\mathcal{M}$ as a quantum operator $A=\\sum_{i, j}\\mathcal{M}_{ij}/||\\mathcal{M}||\\cdot|i\\rangle\\langle j|$. The $k$-th order approximation thereby evaluates to\n",
    "$$\n",
    "\\begin{align}\n",
    "    \\mathbf{x}(t)\\approx \\sum_{m=0}^k\\frac{||x(0)||(||\\mathcal{M}||At)^m}{m!}|x(0)\\rangle + \\sum_{n=1}^k\\frac{||b||(||\\mathcal{M}||A)^{n-1}t^n}{n!}|b\\rangle    \\hspace{1cm} (2)\n",
    "\\end{align}\n",
    "$$"
   ]
  },
  {
   "cell_type": "markdown",
   "id": "6f487542",
   "metadata": {},
   "source": [
    "Furthermore, if **$A$ is unitary** and so are its powers, we can write $U_m\\equiv A^m, U_n\\equiv A^n, C_m\\equiv||x(0)||(||\\mathcal{M}||t)^m/m!, D_n\\equiv||b||(||\\mathcal{M}||t)^{n-1}t/n!$ and write Equation (2) as"
   ]
  },
  {
   "cell_type": "markdown",
   "id": "65006b81",
   "metadata": {},
   "source": [
    "$$\n",
    "\\begin{align}\n",
    "    |x(t)\\rangle \\approx\\frac{1}{\\mathcal{N}^2}\\left(\\sum_{m=0}^kC_mU_m|x(0)\\rangle + \\sum_{n=1}^kD_nU_{n-1}|b\\rangle\n",
    "          \\right)\n",
    "\\end{align}    \\hspace{3cm} (3)\n",
    "$$"
   ]
  },
  {
   "cell_type": "markdown",
   "id": "b52e8c3a",
   "metadata": {},
   "source": [
    "where $\\mathcal{N}^2=\\mathcal{C}^2 + \\mathcal{D}^2, \\mathcal{C}\\equiv\\sqrt{\\sum_mC_m}, \\mathcal{D}\\equiv\\sqrt{\\sum_nD_n}$ is a normalization factor. The $j$th element of the solution vector $\\mathbf{x}(t)$ is then $x_j(t) = \\mathcal{N}^2\\langle j|x(t)\\rangle$. The quantum circuit that extracts $x_j(t)$ is drawn below."
   ]
  },
  {
   "cell_type": "markdown",
   "id": "56abca05",
   "metadata": {},
   "source": [
    "![LDE Quantum Circuit](imgs/classiq_open-challenge_qc.png)"
   ]
  },
  {
   "cell_type": "markdown",
   "id": "1d64b140",
   "metadata": {},
   "source": [
    "Vertically, this circuit is made up of three parts: 1) the first ancilla register of one qubit at the top, 2) the second ancilla register of $T=\\log_2(k+1)$ qubits in the middle, and 3) $\\log_2N$ work qubits for state encoding at the bottom. Horizontally, the circuit comprises of four parts: encoding, entangling, decoding, and measurement."
   ]
  },
  {
   "cell_type": "markdown",
   "id": "56e7af18",
   "metadata": {},
   "source": [
    "#### Encoding"
   ]
  },
  {
   "cell_type": "markdown",
   "id": "216d72ec",
   "metadata": {},
   "source": [
    "Starting off from the initial state $|\\psi_0\\rangle=|0\\rangle\\otimes|0\\rangle^{\\otimes T}\\otimes|\\phi\\rangle$, one first applies a gate\n",
    "$$\n",
    "\\begin{align}\n",
    "    V=\\frac{1}{\\mathcal{N}}\\begin{pmatrix}\\mathcal{C} & \\mathcal{D} \\\\ \\mathcal{D} & -\\mathcal{C}\\end{pmatrix}    \\hspace{7cm} (4)\n",
    "\\end{align}\n",
    "$$"
   ]
  },
  {
   "cell_type": "markdown",
   "id": "08461902",
   "metadata": {},
   "source": [
    "on the top ancilla qubit to convert $|0\\rangle\\rightarrow\\frac{1}{\\mathcal{N}}(\\mathcal{C}|0\\rangle + \\mathcal{D}|1\\rangle)$ and generate separate subspaces for $|x(0)\\rangle$ and $|b\\rangle$. Then, controlled by the state of the top ancilla qubit, one applies $V_{S1}, U_{x}$ for $|0\\rangle$ or $V_{S2}, U_b$ for $|1\\rangle$, where $U_x|\\phi\\rangle = |x(0)\\rangle, U_b|\\phi\\rangle = |b\\rangle$, and the first columns of $V_{S1}, V_{S2}$ are"
   ]
  },
  {
   "cell_type": "markdown",
   "id": "062e7c3c",
   "metadata": {},
   "source": [
    "$$\n",
    "\\begin{align}\n",
    "    V_{S1}(:, 1) &= \\frac{1}{\\mathcal{C}}[\\sqrt{C_0}, \\sqrt{C_1}, ..., \\sqrt{C_{k-1}}, \\sqrt{C_k}]\n",
    "    \\\\\n",
    "    V_{S2}(:, 2) &= \\frac{1}{\\mathcal{D}}[\\sqrt{D_1}, \\sqrt{D_2}, ..., \\sqrt{D_k}, 0]\n",
    "\\end{align}    \\hspace{3cm} (5)\n",
    "$$"
   ]
  },
  {
   "cell_type": "markdown",
   "id": "de957a8f",
   "metadata": {},
   "source": [
    "and this will evolve $|\\psi_0\\rangle$ into"
   ]
  },
  {
   "cell_type": "markdown",
   "id": "c3977839",
   "metadata": {},
   "source": [
    "$$\n",
    "\\begin{align}\n",
    "    |\\psi_1\\rangle = \\frac{1}{\\mathcal{N}}\\left(\n",
    "        |0\\rangle\\sum_{m=0}^k\\sqrt{C_m}|m\\rangle|x(0)\\rangle + |1\\rangle\\sum_{n=1}^k\\sqrt{D_n}|n-1\\rangle|b\\rangle\n",
    "    \\right)\n",
    "\\end{align}    \\hspace{1cm} (6)\n",
    "$$"
   ]
  },
  {
   "cell_type": "markdown",
   "id": "a1898564",
   "metadata": {},
   "source": [
    "#### Entangling"
   ]
  },
  {
   "cell_type": "markdown",
   "id": "dee6e7bd",
   "metadata": {},
   "source": [
    "In this part, controlled by the state of the second ancilla register, $U_m$ is applied to the work qubits if the ancilla register is in state $|m\\rangle$. After all $(k+1)$ $U_m$ gates, the state is converted into"
   ]
  },
  {
   "cell_type": "markdown",
   "id": "a1a6bfae",
   "metadata": {},
   "source": [
    "$$\n",
    "\\begin{align}\n",
    "    |\\psi_2\\rangle = \\frac{1}{\\mathcal{N}}\\left(\n",
    "        |0\\rangle\\sum_{m=0}^k\\sqrt{C_m}|m\\rangle U_m|x(0)\\rangle + |1\\rangle\\sum_{n=1}^k\\sqrt{D_n}|n-1\\rangle U_{n-1}|b\\rangle\n",
    "    \\right)\n",
    "\\end{align}    \\hspace{1cm} (7)\n",
    "$$"
   ]
  },
  {
   "cell_type": "markdown",
   "id": "19f830cf",
   "metadata": {},
   "source": [
    "#### Decoding"
   ]
  },
  {
   "cell_type": "markdown",
   "id": "f7e29d6e",
   "metadata": {},
   "source": [
    "In the decoding step, one simply repeat the encoding step but with $V_{S1}\\rightarrow W_{S1}=V_{S1}^\\dagger, V_{S2}\\rightarrow W_{S2}=V_{S2}^\\dagger, V\\rightarrow W=V^\\dagger$. This reverses the encoding operation and produces the state"
   ]
  },
  {
   "cell_type": "markdown",
   "id": "856a97d1",
   "metadata": {},
   "source": [
    "$$\n",
    "\\begin{align}\n",
    "    |\\psi_3\\rangle = \\frac{1}{\\mathcal{N}^2}|0\\rangle\\otimes|0\\rangle^{\\otimes T}\\otimes\\left(\n",
    "        \\sum_{m=0}^kC_mU_m|x(0)\\rangle + \\sum_{n=1}^kD_nU_{n-1}|b\\rangle\n",
    "    \\right) + \\text{other subspaces}\n",
    "\\end{align}  \\hspace{3mm} (8)\n",
    "$$"
   ]
  },
  {
   "cell_type": "markdown",
   "id": "99106393",
   "metadata": {},
   "source": [
    "#### Measurement"
   ]
  },
  {
   "cell_type": "markdown",
   "id": "a7897697",
   "metadata": {},
   "source": [
    "Finally, we measure and focus only on the subspace where all ancilla qubits are in state $|0\\rangle$. The 'other subspaces' part in Equation (8) then goes away, and the work qubits are in the solution state $|x(t)\\rangle$ given by Equation (3), and $x_j(t) = \\mathcal{N}^2\\langle j|x(t)\\rangle$ can be extracted."
   ]
  },
  {
   "cell_type": "markdown",
   "id": "ebdf7a39",
   "metadata": {},
   "source": [
    "### Adapting to this challenge"
   ]
  },
  {
   "cell_type": "markdown",
   "id": "e338845d",
   "metadata": {},
   "source": [
    "To adapt this algorithm to the Classiq challenge, we need to translate the equation $\\frac{d^2x(t)}{dt^2} + x(t) = 0$ into the paper's language. Although it might seem that we are dealing with a second-order differential equation rather than first order as shown in the paper, we can transform this second-order equation into a first-order vector equation by defining the state vector as $\\mathbf{x}(t) = (x(t), dx(t)/dt)$, and this implies"
   ]
  },
  {
   "cell_type": "markdown",
   "id": "d0b38245",
   "metadata": {},
   "source": [
    "$$\n",
    "\\begin{align}\n",
    "    \\frac{d}{dt} \\begin{pmatrix}x \\\\ \\frac{dx}{dt}\\end{pmatrix}&= \n",
    "    \\begin{pmatrix}\\frac{dx}{dt} \\\\ \\frac{d^2x}{dt^2}\\end{pmatrix}\n",
    "    \\\\\n",
    "    &= \\begin{pmatrix}\\frac{dx}{dt} \\\\ -x\\end{pmatrix}\n",
    "    \\\\\n",
    "    &=\n",
    "    \\begin{pmatrix}\n",
    "        0 & 1 \\\\ -1 & 0\n",
    "    \\end{pmatrix}\n",
    "    \\begin{pmatrix}x \\\\ \\frac{dx}{dt}\\end{pmatrix}\n",
    "\\end{align}    \\hspace{4cm} (9)\n",
    "$$"
   ]
  },
  {
   "cell_type": "markdown",
   "id": "7ff3a861",
   "metadata": {},
   "source": [
    "which is of the form used in the paper, with $\\mathcal{M} = \\begin{pmatrix} 0 & 1 \\\\ -1 & 0\\end{pmatrix}$ and $\\mathbf{b}=0$. The initial conditions $x(0)=1$, $\\frac{dx}{dt}(0)=1$ are then translated into $\\mathbf{x}(0) = (1, 1)$."
   ]
  },
  {
   "cell_type": "markdown",
   "id": "21ce293e",
   "metadata": {},
   "source": [
    "As $\\mathcal{M}$ is already unitary, we can use the algorithm above and define $A=\\mathcal{M}$. Therefore,"
   ]
  },
  {
   "cell_type": "markdown",
   "id": "35f291ed",
   "metadata": {},
   "source": [
    "$$\n",
    "\\begin{align}\n",
    "    U_m &= A^m=\\mathcal{M}^m\n",
    "    \\\\\n",
    "    C_m &= ||x(0)||(||\\mathcal{M}||t)^m/m! = \\sqrt{2}t^m/m!\n",
    "    \\\\\n",
    "    D_n &=0, \\mathcal{D}=0\n",
    "    \\\\\n",
    "    \\mathcal{N} &= \\mathcal{C} = \\sqrt{\\sum_{m=0}^k C_m}\n",
    "    \\\\\n",
    "    V &= \\begin{pmatrix}1 & 0\\\\0 & -1\\end{pmatrix}\n",
    "    \\\\\n",
    "    V_{S1}(:, 1) &= \\frac{1}{\\mathcal{C}}(1, \\sqrt{t}, \\sqrt{\\frac{t^2}{2!}}, \\sqrt{\\frac{t^3}{3!}}, ..., \\sqrt{\\frac{t^k}{k!}})\n",
    "    \\\\\n",
    "    |x(0)\\rangle &= \\frac{1}{\\sqrt{2}} (1, 1)\n",
    "\\end{align}    \\hspace{2cm} (10) \n",
    "$$"
   ]
  },
  {
   "cell_type": "markdown",
   "id": "fd4f1ad4",
   "metadata": {},
   "source": [
    "Note that since $\\mathbf{b}=0$, the top ancilla qubit for separating the $x(0)$ and $b$ subspace is no longer necessary and so is the $V$ gate. We only need $\\log_2 (k+1)$ ancilla qubits and $\\log_2 2=1$ work qubit for the challenge."
   ]
  },
  {
   "cell_type": "markdown",
   "id": "1088cf5e",
   "metadata": {},
   "source": [
    "## Implementation"
   ]
  },
  {
   "cell_type": "markdown",
   "id": "7b51c3f4",
   "metadata": {},
   "source": [
    "### Code structure"
   ]
  },
  {
   "cell_type": "code",
   "execution_count": 12,
   "id": "336886f3",
   "metadata": {},
   "outputs": [],
   "source": [
    "from classiq import *\n",
    "import numpy as np\n",
    "from scipy.special import factorial as fact\n",
    "from classiq.execution import ExecutionPreferences\n",
    "import matplotlib.pyplot as plt"
   ]
  },
  {
   "cell_type": "markdown",
   "id": "e0410740",
   "metadata": {},
   "source": [
    "In Classiq SDK, instead of explicitly applying gates in the encoding stage, we can directly prepare the state of the $\\log_2 (k+1)$ ancilla register according to $V_{S1}$ in Equation (10)."
   ]
  },
  {
   "cell_type": "code",
   "execution_count": 3,
   "id": "3d5b7339",
   "metadata": {},
   "outputs": [],
   "source": [
    "@qfunc\n",
    "def prep_ancilla(ancilla_reg: QNum, bound: CReal):\n",
    "    '''\n",
    "    Prepares the ancilla register in the state specified by V_S1.\n",
    "    '''\n",
    "    C_m = np.array([np.sqrt(2) * t**m / fact(m) for m in range(k + 1)])\n",
    "    C_m = C_m / np.sum(C_m)\n",
    "    # Prep ancilla register according to Vs1\n",
    "    inplace_prepare_state(probabilities=list(C_m), bound=bound, target=ancilla_reg)"
   ]
  },
  {
   "cell_type": "markdown",
   "id": "be10bf54",
   "metadata": {},
   "source": [
    "Then we write the function for preparing the work qubit and creating entanglement between the work qubit and the ancilla register."
   ]
  },
  {
   "cell_type": "code",
   "execution_count": 4,
   "id": "4d84afce",
   "metadata": {},
   "outputs": [],
   "source": [
    "@qfunc\n",
    "def operate(ancilla_reg: QNum, work_q: QBit, k: CInt):\n",
    "    '''\n",
    "    Prepare the work qubit and entangle each state |m> of ancilla register with U_m operating on work qubit.\n",
    "    U_(0 mod 4) = I; U_(1 mod 4) = ZX; U_(2 mod 4) = -I = RZ(2π); U(3 mod 4) = XZ.\n",
    "    '''\n",
    "    H(work_q)       # prepares the work qubit in |x(0)> = |+>\n",
    "    @qfunc\n",
    "    def compose(gate1: QCallable[QBit], gate2: QCallable[QBit], q: QBit):\n",
    "        '''\n",
    "        Acts gate1 then gate2 on qubit q. \n",
    "        '''\n",
    "        gate1(q)\n",
    "        gate2(q)\n",
    "\n",
    "    repeat(\n",
    "        count=k+1,\n",
    "        iteration=lambda index: control(ctrl=(ancilla_reg==index), \n",
    "                                        stmt_block=lambda: if_(condition=((index%4)==0), then=lambda: I(work_q),\n",
    "                                                       else_=lambda: if_(condition=((index%4)==1), then=lambda: compose(X, Z, work_q),\n",
    "                                                                 else_=lambda: if_(condition=((index%4)==2), then=lambda: RZ(2*np.pi, work_q),\n",
    "                                                                           else_=lambda: compose(Z, X, work_q)))))\n",
    "    )"
   ]
  },
  {
   "cell_type": "markdown",
   "id": "9c4ac290",
   "metadata": {},
   "source": [
    "Since the decoding part of the quantum circuit is just the inverse of the encoding part implemented by prep_ancilla, we can use a within_apply statement to do the whole operation."
   ]
  },
  {
   "cell_type": "code",
   "execution_count": 5,
   "id": "70b4780d",
   "metadata": {},
   "outputs": [],
   "source": [
    "@qfunc\n",
    "def main(work_q: Output[QBit], ancilla_reg: Output[QNum]):\n",
    "    '''\n",
    "    Decodes the x(t) solution vector from its entanglement with |00...0> of ancilla register state.\n",
    "    '''\n",
    "    allocate(1, work_q)\n",
    "    allocate(np.ceil(np.log2(k + 1)), ancilla_reg)\n",
    "    within_apply(\n",
    "        within=lambda: prep_ancilla(ancilla_reg, bound),\n",
    "        apply=lambda: operate(ancilla_reg, work_q, k)\n",
    "    )\n",
    "    if_(condition=(apply_final_H!=0), then=lambda: H(work_q), else_=lambda: I(work_q))"
   ]
  },
  {
   "cell_type": "markdown",
   "id": "5da7c314",
   "metadata": {},
   "source": [
    "However, there still is a problem with this algorithm: it cannot distinguish between positive and negative dx/dt values. This is because the probabilities we measure are not sensitive to the sign of amplitudes. To solve this, an extra option is added to the above main() function to apply a Hadamard gate to the work qubit before measurement to measure in x-basis. In this way, the difference in the |0> and |1> counts from a second round of measurement would give the relative signs between x(0) and dx/dt(0), although there is still an overall sign ambiguity due to the inability to detect global phase. This would be one drawback of this algorithm, and for now we have to rely on the knowledge that $x(t)>0$ for $0<t<1$."
   ]
  },
  {
   "cell_type": "markdown",
   "id": "775a1acd",
   "metadata": {},
   "source": [
    "Finally, with some helper functions and some extra codes to extract the solution vector from counts, we can test the code at $t=1$."
   ]
  },
  {
   "cell_type": "code",
   "execution_count": 6,
   "id": "27e97125",
   "metadata": {},
   "outputs": [],
   "source": [
    "def eval_N2(t, k):\n",
    "    C_m = np.array([np.sqrt(2) * t**m / fact(m) for m in range(k + 1)])\n",
    "    return np.sum(C_m)\n",
    "\n",
    "def results2counts(results):\n",
    "    '''\n",
    "    Converts the results str to |0> and |1> counts.\n",
    "    '''\n",
    "    results = '''{}'''.format(results)\n",
    "    results = results.replace(\"\\':\", \"\\',\").replace(\"{\", \"\\\"{\").replace(\"}\", \"}\\\"\").replace(\"[\", \"{\").replace(\"]\", \"}\")\n",
    "    wq_count0_keyword = \"{'work_q', 0.0, 'ancilla_reg', 0.0}\"    # the x(t) counts\n",
    "    wq_count1_keyword = \"{'work_q', 1.0, 'ancilla_reg', 0.0}\"    # the dx/dt(t) counts\n",
    "    wq_count0, wq_count1 = 0, 0\n",
    "\n",
    "    for res in eval(results):\n",
    "        if wq_count0_keyword in res:\n",
    "            wq_count0 = eval(results)[wq_count0_keyword]\n",
    "        elif wq_count1_keyword in res:\n",
    "            wq_count1 = eval(results)[wq_count1_keyword]\n",
    "    \n",
    "    return wq_count0, wq_count1"
   ]
  },
  {
   "cell_type": "code",
   "execution_count": 7,
   "id": "bcefb798",
   "metadata": {
    "scrolled": true
   },
   "outputs": [],
   "source": [
    "def simulate(t_val, k, total_counts, need_sign_correction=True):\n",
    "    global t\n",
    "    t = t_val\n",
    "    N2_factor = eval_N2(t, k)\n",
    "    global apply_final_H\n",
    "    apply_final_H = 0\n",
    "    qmod = create_model(main)\n",
    "    qmod = set_execution_preferences(\n",
    "        qmod,\n",
    "        ExecutionPreferences(\n",
    "            num_shots=total_counts\n",
    "        ),\n",
    "    )\n",
    "    quantum_program = synthesize(qmod)\n",
    "    print(\"QMOD synthesized.\")\n",
    "    # show(quantum_program)\n",
    "    job = execute(quantum_program)\n",
    "    results = job.result()[0].value.parsed_counts\n",
    "    wq_count0, wq_count1 = results2counts(results)\n",
    "    sign_correction_factor = 1\n",
    "    if need_sign_correction:\n",
    "        apply_final_H = 1\n",
    "        qmod_h = create_model(main)\n",
    "        qmod_h = set_execution_preferences(\n",
    "            qmod_h,\n",
    "            ExecutionPreferences(\n",
    "                num_shots=total_counts\n",
    "            ),\n",
    "        )\n",
    "        quantum_program_h = synthesize(qmod_h)\n",
    "        print(\"QMOD_H synthesized.\")\n",
    "        # show(quantum_program)\n",
    "        job_h = execute(quantum_program_h)\n",
    "        results_h = job_h.result()[0].value.parsed_counts\n",
    "        wq_count0_h, wq_count1_h = results2counts(results_h)\n",
    "        sign_correction_factor = (-1)**( wq_count0_h < wq_count1_h)\n",
    "\n",
    "    x_t = N2_factor * np.sqrt(wq_count0 / total_counts)\n",
    "    dxdt = N2_factor * np.sqrt(wq_count1 / total_counts) * sign_correction_factor\n",
    "\n",
    "    print('x(t)={:.3f} and dx/dt(t)={:.3f} at t={}.'.format(x_t, dxdt, t))\n",
    "    \n",
    "    write_qmod(qmod, 'k{}_bound{:.3f}_t{:.1f}_noConstraints'.format(k, bound, t_val))\n",
    "    qasm = QuantumProgram.from_qprog(quantum_program).qasm\n",
    "    file_path = \"k{}_bound{:.3f}_t{:.1f}_noConstraints.qasm\".format(k, bound, t_val)\n",
    "    with open(file_path, 'w') as file:\n",
    "        file.write(qasm)\n",
    "    \n",
    "    return [x_t, dxdt]"
   ]
  },
  {
   "cell_type": "code",
   "execution_count": 8,
   "id": "eb0365cd",
   "metadata": {
    "scrolled": false
   },
   "outputs": [
    {
     "name": "stdout",
     "output_type": "stream",
     "text": [
      "QMOD synthesized.\n",
      "QMOD_H synthesized.\n",
      "x(t)=1.384 and dx/dt(t)=-0.305 at t=1.\n"
     ]
    },
    {
     "data": {
      "text/plain": [
       "[1.3843075398628262, -0.3047144219415329]"
      ]
     },
     "execution_count": 8,
     "metadata": {},
     "output_type": "execute_result"
    }
   ],
   "source": [
    "k = 31\n",
    "bound = 0.001\n",
    "t = 1\n",
    "apply_final_H = CInt('apply_final_H')\n",
    "apply_final_H = 0\n",
    "simulate(t, k, total_counts=1e6)"
   ]
  },
  {
   "cell_type": "markdown",
   "id": "d0635c26",
   "metadata": {},
   "source": [
    "The analytical solution for this problem is $x^*(t)=\\sin(t)+\\cos(t)$ and $\\frac{dx}{dt}(t)^*=\\cos(t)-\\sin(t)$, and they evaluate to $x^*(1)\\sim1.382$ and $\\frac{dx}{dt}(1)\\sim-0.301^*$ at $t=1$. The algorithm's approximations are therefore within ~1% of the exact values, and the algorithm gives the expected signs. Now let's try plotting the solution as a function of time."
   ]
  },
  {
   "cell_type": "code",
   "execution_count": 9,
   "id": "4fae8d0c",
   "metadata": {
    "scrolled": true
   },
   "outputs": [
    {
     "name": "stdout",
     "output_type": "stream",
     "text": [
      "QMOD synthesized.\n",
      "QMOD_H synthesized.\n",
      "x(t)=1.000 and dx/dt(t)=1.000 at t=0.0.\n",
      "QMOD synthesized.\n",
      "QMOD_H synthesized.\n",
      "x(t)=1.095 and dx/dt(t)=0.895 at t=0.1.\n",
      "QMOD synthesized.\n",
      "QMOD_H synthesized.\n",
      "x(t)=1.179 and dx/dt(t)=0.781 at t=0.2.\n",
      "QMOD synthesized.\n",
      "QMOD_H synthesized.\n",
      "x(t)=1.250 and dx/dt(t)=0.661 at t=0.30000000000000004.\n",
      "QMOD synthesized.\n",
      "QMOD_H synthesized.\n",
      "x(t)=1.310 and dx/dt(t)=0.531 at t=0.4.\n",
      "QMOD synthesized.\n",
      "QMOD_H synthesized.\n",
      "x(t)=1.358 and dx/dt(t)=0.399 at t=0.5.\n",
      "QMOD synthesized.\n",
      "QMOD_H synthesized.\n",
      "x(t)=1.390 and dx/dt(t)=0.260 at t=0.6000000000000001.\n",
      "QMOD synthesized.\n",
      "QMOD_H synthesized.\n",
      "x(t)=1.408 and dx/dt(t)=0.123 at t=0.7000000000000001.\n",
      "QMOD synthesized.\n",
      "QMOD_H synthesized.\n",
      "x(t)=1.415 and dx/dt(t)=-0.021 at t=0.8.\n",
      "QMOD synthesized.\n",
      "QMOD_H synthesized.\n",
      "x(t)=1.407 and dx/dt(t)=-0.165 at t=0.9.\n",
      "QMOD synthesized.\n",
      "QMOD_H synthesized.\n",
      "x(t)=1.381 and dx/dt(t)=-0.299 at t=1.0.\n",
      "QMOD synthesized.\n",
      "QMOD_H synthesized.\n",
      "x(t)=1.347 and dx/dt(t)=-0.436 at t=1.1.\n",
      "QMOD synthesized.\n",
      "QMOD_H synthesized.\n",
      "x(t)=1.295 and dx/dt(t)=-0.574 at t=1.2000000000000002.\n",
      "QMOD synthesized.\n",
      "QMOD_H synthesized.\n",
      "x(t)=1.232 and dx/dt(t)=-0.701 at t=1.3.\n",
      "QMOD synthesized.\n",
      "QMOD_H synthesized.\n",
      "x(t)=1.156 and dx/dt(t)=-0.820 at t=1.4000000000000001.\n",
      "QMOD synthesized.\n",
      "QMOD_H synthesized.\n",
      "x(t)=1.072 and dx/dt(t)=-0.930 at t=1.5.\n"
     ]
    }
   ],
   "source": [
    "t_vals = np.arange(start=0, stop=1.6, step=0.1)\n",
    "x_t_theory = np.sin(t_vals) + np.cos(t_vals)\n",
    "dx_dt_theory = np.cos(t_vals) - np.sin(t_vals)\n",
    "x_t_simulation = []\n",
    "dx_dt_simulation = []\n",
    "for t_val in t_vals:\n",
    "    [x_t, dx_dt] = simulate(t_val=t_val, k=31, total_counts=1e6)\n",
    "    x_t_simulation.append(x_t)\n",
    "    dx_dt_simulation.append(dx_dt)"
   ]
  },
  {
   "cell_type": "code",
   "execution_count": 10,
   "id": "37087d14",
   "metadata": {
    "scrolled": true
   },
   "outputs": [
    {
     "data": {
      "image/png": "[encoded data removed]",
      "text/plain": [
       "<Figure size 432x360 with 1 Axes>"
      ]
     },
     "metadata": {
      "needs_background": "light"
     },
     "output_type": "display_data"
    }
   ],
   "source": [
    "t_continuous = np.linspace(start=0, stop=1.5, num=100)\n",
    "x_t_theory = np.sin(t_continuous) + np.cos(t_continuous)\n",
    "dx_dt_theory = np.cos(t_continuous) - np.sin(t_continuous)\n",
    "\n",
    "fig, ax = plt.subplots(figsize=(6, 5))\n",
    "plt.xlabel('t')\n",
    "plt.ylabel('x, dx/dt')\n",
    "plt.title(\"x(t) and dx/dt(t) vs t\")\n",
    "plt.plot(t_continuous, x_t_theory, 'm-', label=\"x(t) expected\")\n",
    "plt.plot(t_continuous, dx_dt_theory, 'c-', label=\"dx/dt(t) expected\")\n",
    "plt.plot(t_vals, x_t_simulation, 'r.', label=\"x(t) simulated\")\n",
    "plt.plot(t_vals, dx_dt_simulation, 'b.', label=\"dx/dt(t) simulated\")\n",
    "plt.legend()\n",
    "plt.show()"
   ]
  },
  {
   "cell_type": "markdown",
   "id": "39d752e1",
   "metadata": {},
   "source": [
    "So with $k=31$ and bound=0.001 the solution returned by the algorithm agrees very well with prediction. Let's now turn to how less strict bounds are going to affect the accuracy of the algorithm by looking at the time-dependence of kinetic and potential energy."
   ]
  },
  {
   "cell_type": "markdown",
   "id": "4a451eab",
   "metadata": {},
   "source": [
    "### Bound optimization"
   ]
  },
  {
   "cell_type": "code",
   "execution_count": 20,
   "id": "9512349a",
   "metadata": {
    "scrolled": true
   },
   "outputs": [
    {
     "name": "stdout",
     "output_type": "stream",
     "text": [
      "Studying bound=0.001...\n",
      "QMOD synthesized.\n",
      "x(t)=0.999 and dx/dt(t)=1.001 at t=0.0.\n",
      "QMOD synthesized.\n",
      "x(t)=1.094 and dx/dt(t)=0.897 at t=0.1.\n",
      "QMOD synthesized.\n",
      "x(t)=1.179 and dx/dt(t)=0.781 at t=0.2.\n",
      "QMOD synthesized.\n",
      "x(t)=1.251 and dx/dt(t)=0.661 at t=0.30000000000000004.\n",
      "QMOD synthesized.\n",
      "x(t)=1.311 and dx/dt(t)=0.532 at t=0.4.\n",
      "QMOD synthesized.\n",
      "x(t)=1.357 and dx/dt(t)=0.399 at t=0.5.\n",
      "QMOD synthesized.\n",
      "x(t)=1.390 and dx/dt(t)=0.261 at t=0.6000000000000001.\n",
      "QMOD synthesized.\n",
      "x(t)=1.411 and dx/dt(t)=0.123 at t=0.7000000000000001.\n",
      "QMOD synthesized.\n",
      "x(t)=1.414 and dx/dt(t)=0.020 at t=0.8.\n",
      "QMOD synthesized.\n",
      "x(t)=1.405 and dx/dt(t)=0.161 at t=0.9.\n",
      "QMOD synthesized.\n",
      "x(t)=1.382 and dx/dt(t)=0.302 at t=1.0.\n",
      "Studying bound=0.010...\n",
      "QMOD synthesized.\n",
      "x(t)=1.000 and dx/dt(t)=1.000 at t=0.0.\n",
      "QMOD synthesized.\n",
      "x(t)=1.095 and dx/dt(t)=0.894 at t=0.1.\n",
      "QMOD synthesized.\n",
      "x(t)=1.179 and dx/dt(t)=0.778 at t=0.2.\n",
      "QMOD synthesized.\n",
      "x(t)=1.252 and dx/dt(t)=0.651 at t=0.30000000000000004.\n",
      "QMOD synthesized.\n",
      "x(t)=1.310 and dx/dt(t)=0.530 at t=0.4.\n",
      "QMOD synthesized.\n",
      "x(t)=1.358 and dx/dt(t)=0.398 at t=0.5.\n",
      "QMOD synthesized.\n",
      "x(t)=1.389 and dx/dt(t)=0.262 at t=0.6000000000000001.\n",
      "QMOD synthesized.\n",
      "x(t)=1.409 and dx/dt(t)=0.125 at t=0.7000000000000001.\n",
      "QMOD synthesized.\n",
      "x(t)=1.415 and dx/dt(t)=0.014 at t=0.8.\n",
      "QMOD synthesized.\n",
      "x(t)=1.407 and dx/dt(t)=0.148 at t=0.9.\n",
      "QMOD synthesized.\n",
      "x(t)=1.387 and dx/dt(t)=0.280 at t=1.0.\n",
      "Studying bound=0.050...\n",
      "QMOD synthesized.\n",
      "x(t)=1.001 and dx/dt(t)=0.999 at t=0.0.\n",
      "QMOD synthesized.\n",
      "x(t)=1.094 and dx/dt(t)=0.896 at t=0.1.\n",
      "QMOD synthesized.\n",
      "x(t)=1.179 and dx/dt(t)=0.779 at t=0.2.\n",
      "QMOD synthesized.\n",
      "x(t)=1.250 and dx/dt(t)=0.652 at t=0.30000000000000004.\n",
      "QMOD synthesized.\n",
      "x(t)=1.311 and dx/dt(t)=0.512 at t=0.4.\n",
      "QMOD synthesized.\n",
      "x(t)=1.357 and dx/dt(t)=0.355 at t=0.5.\n",
      "QMOD synthesized.\n",
      "x(t)=1.390 and dx/dt(t)=0.191 at t=0.6000000000000001.\n",
      "QMOD synthesized.\n",
      "x(t)=1.409 and dx/dt(t)=0.009 at t=0.7000000000000001.\n",
      "QMOD synthesized.\n",
      "x(t)=1.413 and dx/dt(t)=0.016 at t=0.8.\n",
      "QMOD synthesized.\n",
      "x(t)=1.407 and dx/dt(t)=0.151 at t=0.9.\n",
      "QMOD synthesized.\n",
      "x(t)=1.385 and dx/dt(t)=0.282 at t=1.0.\n",
      "Studying bound=0.100...\n",
      "QMOD synthesized.\n",
      "x(t)=1.000 and dx/dt(t)=1.000 at t=0.0.\n",
      "QMOD synthesized.\n",
      "x(t)=1.096 and dx/dt(t)=0.894 at t=0.1.\n",
      "QMOD synthesized.\n",
      "x(t)=1.179 and dx/dt(t)=0.779 at t=0.2.\n",
      "QMOD synthesized.\n",
      "x(t)=1.251 and dx/dt(t)=0.651 at t=0.30000000000000004.\n",
      "QMOD synthesized.\n",
      "x(t)=1.310 and dx/dt(t)=0.511 at t=0.4.\n",
      "QMOD synthesized.\n",
      "x(t)=1.357 and dx/dt(t)=0.356 at t=0.5.\n",
      "QMOD synthesized.\n",
      "x(t)=1.388 and dx/dt(t)=0.192 at t=0.6000000000000001.\n",
      "QMOD synthesized.\n",
      "x(t)=1.409 and dx/dt(t)=0.012 at t=0.7000000000000001.\n",
      "QMOD synthesized.\n",
      "x(t)=1.414 and dx/dt(t)=0.188 at t=0.8.\n",
      "QMOD synthesized.\n",
      "x(t)=1.408 and dx/dt(t)=0.392 at t=0.9.\n",
      "QMOD synthesized.\n",
      "x(t)=1.385 and dx/dt(t)=0.613 at t=1.0.\n"
     ]
    }
   ],
   "source": [
    "bound_vals = [0.001, 0.01, 0.05, 0.1]\n",
    "t_cont = np.linspace(start=0, stop=1, num=100)\n",
    "t_vals_2 = np.arange(start=0, stop=1.1, step=0.1)\n",
    "x_t_pred = np.sin(t_cont) + np.cos(t_cont)\n",
    "dx_dt_pred = np.cos(t_cont) - np.sin(t_cont)\n",
    "x_t_exp = []\n",
    "dx_dt_exp = []\n",
    "for bound_val in bound_vals:\n",
    "    print(\"Studying bound={:.3f}...\".format(bound_val))\n",
    "    bound = bound_val\n",
    "    x_t_exp_bound = []\n",
    "    dx_dt_exp_bound = []\n",
    "    for t_val in t_vals_2:\n",
    "        [x_t, dx_dt] = simulate(t_val=t_val, k=31, total_counts=1e6, need_sign_correction=False)    \n",
    "        # sign correction is unnecessary since energies are not sign-sensitive\n",
    "        x_t_exp_bound.append(x_t)\n",
    "        dx_dt_exp_bound.append(dx_dt)\n",
    "    x_t_exp.append(x_t_exp_bound)\n",
    "    dx_dt_exp.append(dx_dt_exp_bound)"
   ]
  },
  {
   "cell_type": "code",
   "execution_count": 25,
   "id": "97000dff",
   "metadata": {
    "scrolled": false
   },
   "outputs": [
    {
     "data": {
      "image/png": "[encoded data removed]",
      "text/plain": [
       "<Figure size 1152x576 with 2 Axes>"
      ]
     },
     "metadata": {
      "needs_background": "light"
     },
     "output_type": "display_data"
    }
   ],
   "source": [
    "x_t_exp = np.array(x_t_exp)\n",
    "dx_dt_exp = np.array(dx_dt_exp)\n",
    "fig, (ax1, ax2) = plt.subplots(1, 2, figsize=(16, 8))\n",
    "ax1.set_xlabel('t')\n",
    "ax1.set_ylabel('E_k, E_p')\n",
    "ax1.set_title(\"E_k and E_p vs t for different bounds\")\n",
    "ax1.plot(t_cont, 0.5 * (x_t_pred)**2, 'm-', label=\"E_p expected\")\n",
    "ax1.plot(t_cont, 0.5 * (dx_dt_pred)**2, 'c-', label=\"E_k expected\")\n",
    "ax2.set_title(\"E_k+E_p vs t for different bounds\")\n",
    "ax2.set_xlabel('t')\n",
    "ax2.set_ylabel('E_k+E_p')\n",
    "ax2.plot(t_cont, 0.5 * (x_t_pred)**2 + 0.5 * (dx_dt_pred)**2, label=\"E_p+E_k expected\")\n",
    "for i in range(4):\n",
    "    ax1.plot(t_vals_2, 0.5 * x_t_exp[i]**2, label=\"E_p, bound={:.3f}\".format(bound_vals[i]))\n",
    "    ax1.plot(t_vals_2, 0.5 * dx_dt_exp[i]**2, label=\"E_k, bound={:.3f}\".format(bound_vals[i]))\n",
    "    ax2.plot(t_vals_2, 0.5 * x_t_exp[i]**2+0.5 * dx_dt_exp[i]**2, label=\"bound={:.3f}\".format(bound_vals[i]))\n",
    "ax1.legend(loc='best')\n",
    "ax2.legend(loc='best')\n",
    "plt.show()"
   ]
  },
  {
   "cell_type": "markdown",
   "id": "37622f7a",
   "metadata": {},
   "source": [
    "We see that as we use larger and larger bounds of state preparation, both $E_k$ and $E_p$ deviate more and more from the expectation, and total energy $E_k+E_p$ is no longer well conserved especially at large t. We will stick to bound=0.001 for now."
   ]
  },
  {
   "cell_type": "markdown",
   "id": "7f698da1",
   "metadata": {},
   "source": [
    "Let's finally look at how the circuit can be further optimized in term of circuit depth and width. We first look at the circuit parameters of one of the unconstrained data with k=31 and bound=0.001."
   ]
  },
  {
   "cell_type": "code",
   "execution_count": 27,
   "id": "b850159c",
   "metadata": {},
   "outputs": [
    {
     "name": "stdout",
     "output_type": "stream",
     "text": [
      "The circuit width is 9 and the circuit_depth is 4994.\n"
     ]
    }
   ],
   "source": [
    "k = 31\n",
    "bound = 0.001\n",
    "qmod = create_model(main)\n",
    "quantum_program = synthesize(qmod)\n",
    "circuit_width = QuantumProgram.from_qprog(quantum_program).data.width\n",
    "circuit_depth = QuantumProgram.from_qprog(quantum_program).transpiled_circuit.depth\n",
    "print(f\"The circuit width is {circuit_width} and the circuit_depth is {circuit_depth}.\")"
   ]
  },
  {
   "cell_type": "markdown",
   "id": "61e11044",
   "metadata": {},
   "source": [
    "We can see the circuit is narrow but quite deep. Let's try to optimize its depth."
   ]
  },
  {
   "cell_type": "code",
   "execution_count": 28,
   "id": "1ca2cc13",
   "metadata": {},
   "outputs": [
    {
     "name": "stdout",
     "output_type": "stream",
     "text": [
      "The constrained circuit width is 15 and the circuit_depth is 2324.\n"
     ]
    }
   ],
   "source": [
    "qmod_depth = set_constraints(\n",
    "    qmod, Constraints(optimization_parameter=\"depth\", max_width=15)\n",
    ")\n",
    "qprog_depth = synthesize(qmod_depth)\n",
    "circuit_width = QuantumProgram.from_qprog(qprog_depth).data.width\n",
    "circuit_depth = QuantumProgram.from_qprog(qprog_depth).transpiled_circuit.depth\n",
    "print(f\"The constrained circuit width is {circuit_width} and the circuit_depth is {circuit_depth}.\")"
   ]
  },
  {
   "cell_type": "markdown",
   "id": "faf50859",
   "metadata": {},
   "source": [
    "Or alternatively, optimize its width even further."
   ]
  },
  {
   "cell_type": "code",
   "execution_count": 29,
   "id": "c9362625",
   "metadata": {},
   "outputs": [
    {
     "name": "stdout",
     "output_type": "stream",
     "text": [
      "The constrained circuit width is 7 and the circuit_depth is 7515.\n"
     ]
    }
   ],
   "source": [
    "qmod_depth = set_constraints(\n",
    "    qmod, Constraints(optimization_parameter=\"width\", max_depth=8000)\n",
    ")\n",
    "qprog_depth = synthesize(qmod_depth)\n",
    "circuit_width = QuantumProgram.from_qprog(qprog_depth).data.width\n",
    "circuit_depth = QuantumProgram.from_qprog(qprog_depth).transpiled_circuit.depth\n",
    "print(f\"The constrained circuit width is {circuit_width} and the circuit_depth is {circuit_depth}.\")"
   ]
  },
  {
   "cell_type": "markdown",
   "id": "0308d8b9",
   "metadata": {},
   "source": [
    "So the minimum circuit width possible is when we have exactly one extra auxiliary qubit beside the work qubit and the 5-qubit ancilla register. The circuit width and depth turn out to be fairly flexible to optimization. Let's also see how for the unconstrained condition, the circuit depth and width depend on the bound value for state preparation."
   ]
  },
  {
   "cell_type": "code",
   "execution_count": 35,
   "id": "0e917eb6",
   "metadata": {
    "scrolled": true
   },
   "outputs": [
    {
     "name": "stdout",
     "output_type": "stream",
     "text": [
      "Done for bound 0.001.\n",
      "Done for bound 0.006.\n",
      "Done for bound 0.011.\n",
      "Done for bound 0.016.\n",
      "Done for bound 0.021.\n",
      "Done for bound 0.026.\n",
      "Done for bound 0.031.\n",
      "Done for bound 0.036.\n",
      "Done for bound 0.041.\n",
      "Done for bound 0.046.\n",
      "Done for bound 0.051.\n"
     ]
    }
   ],
   "source": [
    "bound_vals = np.arange(start=0.001, stop=0.052, step=0.005)\n",
    "circuit_widths = []\n",
    "circuit_depths = []\n",
    "for bound_val in bound_vals:\n",
    "    bound = bound_val\n",
    "    qmod = create_model(main)\n",
    "    qprog = synthesize(qmod)\n",
    "    circuit_width = QuantumProgram.from_qprog(qprog).data.width\n",
    "    circuit_depth = QuantumProgram.from_qprog(qprog).transpiled_circuit.depth\n",
    "    circuit_widths.append(circuit_width)\n",
    "    circuit_depths.append(circuit_depth)\n",
    "    print('Done for bound {:.3f}.'.format(bound_val))"
   ]
  },
  {
   "cell_type": "code",
   "execution_count": 36,
   "id": "6f7d0e89",
   "metadata": {},
   "outputs": [
    {
     "data": {
      "image/png": "[encoded data removed]",
      "text/plain": [
       "<Figure size 432x288 with 2 Axes>"
      ]
     },
     "metadata": {
      "needs_background": "light"
     },
     "output_type": "display_data"
    }
   ],
   "source": [
    "fig, ax0 = plt.subplots()\n",
    "ax1 = ax0.twinx()\n",
    "\n",
    "ax0.set_xlabel(\"Bound\")\n",
    "ax0.set_ylabel(\"Circuit depth\")\n",
    "ax1.set_ylabel(\"Circuit width\")\n",
    "p0 = ax0.plot(bound_vals, circuit_depths, 'b.', markersize=8, label=\"Depth\")\n",
    "p1 = ax1.plot(bound_vals, circuit_widths, 'r.', markersize=8, label=\"Width\")\n",
    "plt.title(\"Circuit depths and widths vs bound, unconstrained\")\n",
    "plt.legend(handles=p0+p1, loc=\"best\")\n",
    "plt.show()"
   ]
  },
  {
   "cell_type": "markdown",
   "id": "49a09c34",
   "metadata": {},
   "source": [
    "Here we can see that up to the point bound=0.05 beyond which the algorithm becomes unreliable, circuit width doesn't depend on bound while circuit depth has a maximum reduction of ~20% as bound is increased, yet the dependence is not strictly monotonic. Therefore, for both accuracy and efficiency, bound=0.001 is a good value for circuit optimization."
   ]
  },
  {
   "cell_type": "markdown",
   "id": "30654b60",
   "metadata": {},
   "source": [
    "### k optimization"
   ]
  },
  {
   "cell_type": "markdown",
   "id": "6cee16bc",
   "metadata": {},
   "source": [
    "And finally, let's look at how variation in k-value is going to affect the $E_k(t), E_p(t)$ curves and pick out an optimal k value for circuit optimization."
   ]
  },
  {
   "cell_type": "code",
   "execution_count": 18,
   "id": "264cfd0a",
   "metadata": {
    "scrolled": true
   },
   "outputs": [
    {
     "name": "stdout",
     "output_type": "stream",
     "text": [
      "Studying k=31...\n",
      "QMOD synthesized.\n",
      "x(t)=1.000 and dx/dt(t)=1.000 at t=0.0.\n",
      "QMOD synthesized.\n",
      "x(t)=1.095 and dx/dt(t)=0.894 at t=0.1.\n",
      "QMOD synthesized.\n",
      "x(t)=1.179 and dx/dt(t)=0.782 at t=0.2.\n",
      "QMOD synthesized.\n"
     ]
    },
    {
     "ename": "KeyboardInterrupt",
     "evalue": "",
     "output_type": "error",
     "traceback": [
      "\u001b[1;31m---------------------------------------------------------------------------\u001b[0m",
      "\u001b[1;31mKeyboardInterrupt\u001b[0m                         Traceback (most recent call last)",
      "Input \u001b[1;32mIn [18]\u001b[0m, in \u001b[0;36m<cell line: 7>\u001b[1;34m()\u001b[0m\n\u001b[0;32m     11\u001b[0m dx_dt_exp_k \u001b[38;5;241m=\u001b[39m []\n\u001b[0;32m     12\u001b[0m \u001b[38;5;28;01mfor\u001b[39;00m t_val \u001b[38;5;129;01min\u001b[39;00m t_vals_2:\n\u001b[1;32m---> 13\u001b[0m     [x_t, dx_dt] \u001b[38;5;241m=\u001b[39m \u001b[43msimulate\u001b[49m\u001b[43m(\u001b[49m\u001b[43mt_val\u001b[49m\u001b[38;5;241;43m=\u001b[39;49m\u001b[43mt_val\u001b[49m\u001b[43m,\u001b[49m\u001b[43m \u001b[49m\u001b[43mk\u001b[49m\u001b[38;5;241;43m=\u001b[39;49m\u001b[43mk_val\u001b[49m\u001b[43m,\u001b[49m\u001b[43m \u001b[49m\u001b[43mtotal_counts\u001b[49m\u001b[38;5;241;43m=\u001b[39;49m\u001b[38;5;241;43m1e6\u001b[39;49m\u001b[43m,\u001b[49m\u001b[43m \u001b[49m\u001b[43mneed_sign_correction\u001b[49m\u001b[38;5;241;43m=\u001b[39;49m\u001b[38;5;28;43;01mFalse\u001b[39;49;00m\u001b[43m)\u001b[49m    \n\u001b[0;32m     14\u001b[0m     \u001b[38;5;66;03m# sign correction is unnecessary since energies are not sign-sensitive\u001b[39;00m\n\u001b[0;32m     15\u001b[0m     x_t_exp_k\u001b[38;5;241m.\u001b[39mappend(x_t)\n",
      "Input \u001b[1;32mIn [7]\u001b[0m, in \u001b[0;36msimulate\u001b[1;34m(t_val, k, total_counts, need_sign_correction)\u001b[0m\n\u001b[0;32m     16\u001b[0m \u001b[38;5;66;03m# show(quantum_program)\u001b[39;00m\n\u001b[0;32m     17\u001b[0m job \u001b[38;5;241m=\u001b[39m execute(quantum_program)\n\u001b[1;32m---> 18\u001b[0m results \u001b[38;5;241m=\u001b[39m \u001b[43mjob\u001b[49m\u001b[38;5;241;43m.\u001b[39;49m\u001b[43mresult\u001b[49m\u001b[43m(\u001b[49m\u001b[43m)\u001b[49m[\u001b[38;5;241m0\u001b[39m]\u001b[38;5;241m.\u001b[39mvalue\u001b[38;5;241m.\u001b[39mparsed_counts\n\u001b[0;32m     19\u001b[0m wq_count0, wq_count1 \u001b[38;5;241m=\u001b[39m results2counts(results)\n\u001b[0;32m     20\u001b[0m sign_correction_factor \u001b[38;5;241m=\u001b[39m \u001b[38;5;241m1\u001b[39m\n",
      "File \u001b[1;32m~\\AppData\\Local\\Programs\\Python\\Python310\\lib\\site-packages\\classiq\\_internals\\async_utils.py:45\u001b[0m, in \u001b[0;36msyncify_function.<locals>.async_wrapper\u001b[1;34m(*args, **kwargs)\u001b[0m\n\u001b[0;32m     43\u001b[0m \u001b[38;5;129m@functools\u001b[39m\u001b[38;5;241m.\u001b[39mwraps(async_func)\n\u001b[0;32m     44\u001b[0m \u001b[38;5;28;01mdef\u001b[39;00m \u001b[38;5;21masync_wrapper\u001b[39m(\u001b[38;5;241m*\u001b[39margs: Any, \u001b[38;5;241m*\u001b[39m\u001b[38;5;241m*\u001b[39mkwargs: Any) \u001b[38;5;241m-\u001b[39m\u001b[38;5;241m>\u001b[39m T:\n\u001b[1;32m---> 45\u001b[0m     \u001b[38;5;28;01mreturn\u001b[39;00m \u001b[43mrun\u001b[49m\u001b[43m(\u001b[49m\u001b[43masync_func\u001b[49m\u001b[43m(\u001b[49m\u001b[38;5;241;43m*\u001b[39;49m\u001b[43margs\u001b[49m\u001b[43m,\u001b[49m\u001b[43m \u001b[49m\u001b[38;5;241;43m*\u001b[39;49m\u001b[38;5;241;43m*\u001b[39;49m\u001b[43mkwargs\u001b[49m\u001b[43m)\u001b[49m\u001b[43m)\u001b[49m\n",
      "File \u001b[1;32m~\\AppData\\Local\\Programs\\Python\\Python310\\lib\\site-packages\\classiq\\_internals\\async_utils.py:39\u001b[0m, in \u001b[0;36mrun\u001b[1;34m(coro)\u001b[0m\n\u001b[0;32m     34\u001b[0m \u001b[38;5;28;01mdef\u001b[39;00m \u001b[38;5;21mrun\u001b[39m(coro: Awaitable[T]) \u001b[38;5;241m-\u001b[39m\u001b[38;5;241m>\u001b[39m T:\n\u001b[0;32m     35\u001b[0m     \u001b[38;5;66;03m# Use this function instead of asyncio.run, since it ALWAYS\u001b[39;00m\n\u001b[0;32m     36\u001b[0m     \u001b[38;5;66;03m# creates a new event loop and clears the thread event loop.\u001b[39;00m\n\u001b[0;32m     37\u001b[0m     \u001b[38;5;66;03m# Never use asyncio.run in library code.\u001b[39;00m\n\u001b[0;32m     38\u001b[0m     loop \u001b[38;5;241m=\u001b[39m get_event_loop()\n\u001b[1;32m---> 39\u001b[0m     \u001b[38;5;28;01mreturn\u001b[39;00m \u001b[43mloop\u001b[49m\u001b[38;5;241;43m.\u001b[39;49m\u001b[43mrun_until_complete\u001b[49m\u001b[43m(\u001b[49m\u001b[43mcoro\u001b[49m\u001b[43m)\u001b[49m\n",
      "File \u001b[1;32m~\\AppData\\Local\\Programs\\Python\\Python310\\lib\\site-packages\\nest_asyncio.py:83\u001b[0m, in \u001b[0;36m_patch_loop.<locals>.run_until_complete\u001b[1;34m(self, future)\u001b[0m\n\u001b[0;32m     81\u001b[0m     f\u001b[38;5;241m.\u001b[39m_log_destroy_pending \u001b[38;5;241m=\u001b[39m \u001b[38;5;28;01mFalse\u001b[39;00m\n\u001b[0;32m     82\u001b[0m \u001b[38;5;28;01mwhile\u001b[39;00m \u001b[38;5;129;01mnot\u001b[39;00m f\u001b[38;5;241m.\u001b[39mdone():\n\u001b[1;32m---> 83\u001b[0m     \u001b[38;5;28;43mself\u001b[39;49m\u001b[38;5;241;43m.\u001b[39;49m\u001b[43m_run_once\u001b[49m\u001b[43m(\u001b[49m\u001b[43m)\u001b[49m\n\u001b[0;32m     84\u001b[0m     \u001b[38;5;28;01mif\u001b[39;00m \u001b[38;5;28mself\u001b[39m\u001b[38;5;241m.\u001b[39m_stopping:\n\u001b[0;32m     85\u001b[0m         \u001b[38;5;28;01mbreak\u001b[39;00m\n",
      "File \u001b[1;32m~\\AppData\\Local\\Programs\\Python\\Python310\\lib\\site-packages\\nest_asyncio.py:106\u001b[0m, in \u001b[0;36m_patch_loop.<locals>._run_once\u001b[1;34m(self)\u001b[0m\n\u001b[0;32m     99\u001b[0m     heappop(scheduled)\n\u001b[0;32m    101\u001b[0m timeout \u001b[38;5;241m=\u001b[39m (\n\u001b[0;32m    102\u001b[0m     \u001b[38;5;241m0\u001b[39m \u001b[38;5;28;01mif\u001b[39;00m ready \u001b[38;5;129;01mor\u001b[39;00m \u001b[38;5;28mself\u001b[39m\u001b[38;5;241m.\u001b[39m_stopping\n\u001b[0;32m    103\u001b[0m     \u001b[38;5;28;01melse\u001b[39;00m \u001b[38;5;28mmin\u001b[39m(\u001b[38;5;28mmax\u001b[39m(\n\u001b[0;32m    104\u001b[0m         scheduled[\u001b[38;5;241m0\u001b[39m]\u001b[38;5;241m.\u001b[39m_when \u001b[38;5;241m-\u001b[39m \u001b[38;5;28mself\u001b[39m\u001b[38;5;241m.\u001b[39mtime(), \u001b[38;5;241m0\u001b[39m), \u001b[38;5;241m86400\u001b[39m) \u001b[38;5;28;01mif\u001b[39;00m scheduled\n\u001b[0;32m    105\u001b[0m     \u001b[38;5;28;01melse\u001b[39;00m \u001b[38;5;28;01mNone\u001b[39;00m)\n\u001b[1;32m--> 106\u001b[0m event_list \u001b[38;5;241m=\u001b[39m \u001b[38;5;28;43mself\u001b[39;49m\u001b[38;5;241;43m.\u001b[39;49m\u001b[43m_selector\u001b[49m\u001b[38;5;241;43m.\u001b[39;49m\u001b[43mselect\u001b[49m\u001b[43m(\u001b[49m\u001b[43mtimeout\u001b[49m\u001b[43m)\u001b[49m\n\u001b[0;32m    107\u001b[0m \u001b[38;5;28mself\u001b[39m\u001b[38;5;241m.\u001b[39m_process_events(event_list)\n\u001b[0;32m    109\u001b[0m end_time \u001b[38;5;241m=\u001b[39m \u001b[38;5;28mself\u001b[39m\u001b[38;5;241m.\u001b[39mtime() \u001b[38;5;241m+\u001b[39m \u001b[38;5;28mself\u001b[39m\u001b[38;5;241m.\u001b[39m_clock_resolution\n",
      "File \u001b[1;32m~\\AppData\\Local\\Programs\\Python\\Python310\\lib\\selectors.py:324\u001b[0m, in \u001b[0;36mSelectSelector.select\u001b[1;34m(self, timeout)\u001b[0m\n\u001b[0;32m    322\u001b[0m ready \u001b[38;5;241m=\u001b[39m []\n\u001b[0;32m    323\u001b[0m \u001b[38;5;28;01mtry\u001b[39;00m:\n\u001b[1;32m--> 324\u001b[0m     r, w, _ \u001b[38;5;241m=\u001b[39m \u001b[38;5;28;43mself\u001b[39;49m\u001b[38;5;241;43m.\u001b[39;49m\u001b[43m_select\u001b[49m\u001b[43m(\u001b[49m\u001b[38;5;28;43mself\u001b[39;49m\u001b[38;5;241;43m.\u001b[39;49m\u001b[43m_readers\u001b[49m\u001b[43m,\u001b[49m\u001b[43m \u001b[49m\u001b[38;5;28;43mself\u001b[39;49m\u001b[38;5;241;43m.\u001b[39;49m\u001b[43m_writers\u001b[49m\u001b[43m,\u001b[49m\u001b[43m \u001b[49m\u001b[43m[\u001b[49m\u001b[43m]\u001b[49m\u001b[43m,\u001b[49m\u001b[43m \u001b[49m\u001b[43mtimeout\u001b[49m\u001b[43m)\u001b[49m\n\u001b[0;32m    325\u001b[0m \u001b[38;5;28;01mexcept\u001b[39;00m \u001b[38;5;167;01mInterruptedError\u001b[39;00m:\n\u001b[0;32m    326\u001b[0m     \u001b[38;5;28;01mreturn\u001b[39;00m ready\n",
      "File \u001b[1;32m~\\AppData\\Local\\Programs\\Python\\Python310\\lib\\selectors.py:315\u001b[0m, in \u001b[0;36mSelectSelector._select\u001b[1;34m(self, r, w, _, timeout)\u001b[0m\n\u001b[0;32m    314\u001b[0m \u001b[38;5;28;01mdef\u001b[39;00m \u001b[38;5;21m_select\u001b[39m(\u001b[38;5;28mself\u001b[39m, r, w, _, timeout\u001b[38;5;241m=\u001b[39m\u001b[38;5;28;01mNone\u001b[39;00m):\n\u001b[1;32m--> 315\u001b[0m     r, w, x \u001b[38;5;241m=\u001b[39m \u001b[43mselect\u001b[49m\u001b[38;5;241;43m.\u001b[39;49m\u001b[43mselect\u001b[49m\u001b[43m(\u001b[49m\u001b[43mr\u001b[49m\u001b[43m,\u001b[49m\u001b[43m \u001b[49m\u001b[43mw\u001b[49m\u001b[43m,\u001b[49m\u001b[43m \u001b[49m\u001b[43mw\u001b[49m\u001b[43m,\u001b[49m\u001b[43m \u001b[49m\u001b[43mtimeout\u001b[49m\u001b[43m)\u001b[49m\n\u001b[0;32m    316\u001b[0m     \u001b[38;5;28;01mreturn\u001b[39;00m r, w \u001b[38;5;241m+\u001b[39m x, []\n",
      "\u001b[1;31mKeyboardInterrupt\u001b[0m: "
     ]
    }
   ],
   "source": [
    "k = 31\n",
    "bound = 0.001\n",
    "t_vals_2 = np.arange(start=0, stop=1.1, step=0.1)\n",
    "k_vals = [31, 15, 7, 3]\n",
    "x_t_exp = []\n",
    "dx_dt_exp = []\n",
    "for k_val in k_vals:\n",
    "    print(\"Studying k={}...\".format(k_val))\n",
    "    k = k_val\n",
    "    x_t_exp_k = []\n",
    "    dx_dt_exp_k = []\n",
    "    for t_val in t_vals_2:\n",
    "        [x_t, dx_dt] = simulate(t_val=t_val, k=k_val, total_counts=1e6, need_sign_correction=False)    \n",
    "        # sign correction is unnecessary since energies are not sign-sensitive\n",
    "        x_t_exp_k.append(x_t)\n",
    "        dx_dt_exp_k.append(dx_dt)\n",
    "    x_t_exp.append(x_t_exp_k)\n",
    "    dx_dt_exp.append(dx_dt_exp_k)"
   ]
  },
  {
   "cell_type": "code",
   "execution_count": 15,
   "id": "268bcd98",
   "metadata": {},
   "outputs": [
    {
     "data": {
      "image/png": "[encoded data removed]",
      "text/plain": [
       "<Figure size 1152x576 with 2 Axes>"
      ]
     },
     "metadata": {
      "needs_background": "light"
     },
     "output_type": "display_data"
    }
   ],
   "source": [
    "t_cont = np.linspace(start=0, stop=1, num=100)\n",
    "x_t_pred = np.sin(t_cont) + np.cos(t_cont)\n",
    "dx_dt_pred = np.cos(t_cont) - np.sin(t_cont)\n",
    "x_t_exp = np.array(x_t_exp)\n",
    "dx_dt_exp = np.array(dx_dt_exp)\n",
    "fig, (ax1, ax2) = plt.subplots(1, 2, figsize=(16, 8))\n",
    "ax1.set_xlabel('t')\n",
    "ax1.set_ylabel('E_k, E_p')\n",
    "ax1.set_title(\"E_k and E_p vs t for different k\")\n",
    "ax1.plot(t_cont, 0.5 * (x_t_pred)**2, 'm-', label=\"E_p expected\")\n",
    "ax1.plot(t_cont, 0.5 * (dx_dt_pred)**2, 'c-', label=\"E_k expected\")\n",
    "ax2.set_title(\"E_k+E_p vs t for different k\")\n",
    "ax2.set_xlabel('t')\n",
    "ax2.set_ylabel('E_k+E_p')\n",
    "ax2.plot(t_cont, 0.5 * (x_t_pred)**2 + 0.5 * (dx_dt_pred)**2, label=\"E_p+E_k expected\")\n",
    "for i in range(4):\n",
    "    ax1.plot(t_vals_2, 0.5 * x_t_exp[i]**2, label=\"E_p, k={}\".format(k_vals[i]))\n",
    "    ax1.plot(t_vals_2, 0.5 * dx_dt_exp[i]**2, label=\"E_k, k={}\".format(k_vals[i]))\n",
    "    ax2.plot(t_vals_2, 0.5 * x_t_exp[i]**2+0.5 * dx_dt_exp[i]**2, label=\"k={}\".format(k_vals[i]))\n",
    "ax1.legend(loc='best')\n",
    "ax2.legend(loc='best')\n",
    "plt.show()"
   ]
  },
  {
   "cell_type": "markdown",
   "id": "207b294e",
   "metadata": {},
   "source": [
    "So it seems that $k=31$ might be a slight overkill for this problem as all circuits with $k\\geq7$ perform pretty well in this interval. Let's look at how circuit depths and widths (unconstrained) depend on $k$."
   ]
  },
  {
   "cell_type": "code",
   "execution_count": 21,
   "id": "6b92e17d",
   "metadata": {},
   "outputs": [
    {
     "name": "stdout",
     "output_type": "stream",
     "text": [
      "Done for k=127.\n",
      "Done for k=63.\n",
      "Done for k=31.\n",
      "Done for k=15.\n",
      "Done for k=7.\n",
      "Done for k=3.\n"
     ]
    }
   ],
   "source": [
    "k_vals = [127, 63, 31, 15, 7, 3]\n",
    "circuit_widths = []\n",
    "circuit_depths = []\n",
    "for k_val in k_vals:\n",
    "    k = k_val\n",
    "    qmod = create_model(main)\n",
    "    qprog = synthesize(qmod)\n",
    "    circuit_width = QuantumProgram.from_qprog(qprog).data.width\n",
    "    circuit_depth = QuantumProgram.from_qprog(qprog).transpiled_circuit.depth\n",
    "    circuit_widths.append(circuit_width)\n",
    "    circuit_depths.append(circuit_depth)\n",
    "    print('Done for k={}.'.format(k_val))"
   ]
  },
  {
   "cell_type": "code",
   "execution_count": 25,
   "id": "3faa79df",
   "metadata": {},
   "outputs": [
    {
     "data": {
      "image/png": "[encoded data removed]",
      "text/plain": [
       "<Figure size 432x288 with 2 Axes>"
      ]
     },
     "metadata": {
      "needs_background": "light"
     },
     "output_type": "display_data"
    }
   ],
   "source": [
    "k_vals = np.array(k_vals)\n",
    "fig, ax0 = plt.subplots()\n",
    "ax1 = ax0.twinx()\n",
    "ax0.set_xlabel(\"log_2(k+1)\")\n",
    "ax0.set_ylabel(\"Circuit depth\")\n",
    "ax1.set_ylabel(\"Circuit width\")\n",
    "p0 = ax0.plot(np.log2(k_vals+1), circuit_depths, 'b.', markersize=8, label=\"Depth\")\n",
    "p1 = ax1.plot(np.log2(k_vals+1), circuit_widths, 'r.', markersize=8, label=\"Width\")\n",
    "plt.title(\"Circuit depths and widths vs k, unconstrained\")\n",
    "plt.legend(handles=p0+p1, loc=\"best\")\n",
    "plt.show()"
   ]
  },
  {
   "cell_type": "markdown",
   "id": "0b05a02c",
   "metadata": {},
   "source": [
    "We can see that while circuit width scales approximately linearly with $\\log_2(k+1)$ as expected, circuit depth increases dramatically with k while not providing a significant boost in accuracy. Therefore, a k value of ~15 might be a good choice for this problem that provides both good accuracy and efficient circuit. The analysis routine used in this document can also be adapted to other problems by modifying the $\\mathcal{M}$ matrix used in the ``operate()`` function."
   ]
  },
  {
   "cell_type": "markdown",
   "id": "09aadab4",
   "metadata": {},
   "source": [
    "## Summary"
   ]
  },
  {
   "cell_type": "markdown",
   "id": "3726527f",
   "metadata": {},
   "source": [
    "In this work we investigated a quantum algorithm[1] for solving linear differential equations. The algorithm is adapted to solve the second-order harmonic oscillator equation, and the routine can be conveniently implemented in Classiq with high-level state preparation and operation programs. By building a quantum circuit for each time point, one can obtain a solution vector $(x(t), dx/dt(t))$ from a set of initial conditions $(x(0), dx/dt(0))$. Results turn out to agree with theory within ~1%, and the optimal bound and k values found to give both good accuracy and efficient circuits (in terms of circuit depth and width) are bound=0.001 and $k=15$. Further work can be done on variants of the harmonic oscillator equations (e.g., with damping) or other more complex differential equations that are expected to cost more resources to test the applicability of this quantum algorithm."
   ]
  },
  {
   "cell_type": "markdown",
   "id": "f1db3d7a",
   "metadata": {},
   "source": [
    "## References"
   ]
  },
  {
   "cell_type": "markdown",
   "id": "3d4b8332",
   "metadata": {},
   "source": [
    "[1] Xin, Tao et al., Phys. Rev. A 101, 032307 (2020)."
   ]
  }
 ],
 "metadata": {
  "kernelspec": {
   "display_name": "Python 3 (ipykernel)",
   "language": "python",
   "name": "python3"
  },
  "language_info": {
   "codemirror_mode": {
    "name": "ipython",
    "version": 3
   },
   "file_extension": ".py",
   "mimetype": "text/x-python",
   "name": "python",
   "nbconvert_exporter": "python",
   "pygments_lexer": "ipython3",
   "version": "3.10.5"
  }
 },
 "nbformat": 4,
 "nbformat_minor": 5
}
