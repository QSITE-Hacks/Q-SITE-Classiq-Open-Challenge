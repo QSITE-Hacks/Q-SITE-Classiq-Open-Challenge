{
  "nbformat": 4,
  "nbformat_minor": 0,
  "metadata": {
    "colab": {
      "provenance": []
    },
    "kernelspec": {
      "name": "python3",
      "display_name": "Python 3"
    },
    "language_info": {
      "name": "python"
    }
  },
  "cells": [
    {
      "cell_type": "code",
      "execution_count": 10,
      "metadata": {
        "id": "fZAEKrlvO0lu",
        "colab": {
          "base_uri": "https://localhost:8080/"
        },
        "collapsed": true,
        "outputId": "42ffea1e-7967-4652-b50b-f7b00fce5c71"
      },
      "outputs": [
        {
          "output_type": "stream",
          "name": "stdout",
          "text": [
            "Requirement already satisfied: classiq==0.48 in /usr/local/lib/python3.10/dist-packages (0.48.0)\n",
            "Requirement already satisfied: ConfigArgParse<2.0.0,>=1.5.3 in /usr/local/lib/python3.10/dist-packages (from classiq==0.48) (1.7)\n",
            "Requirement already satisfied: Pyomo<6.6,>=6.5 in /usr/local/lib/python3.10/dist-packages (from classiq==0.48) (6.5.0)\n",
            "Requirement already satisfied: black<25.0,>=24.0 in /usr/local/lib/python3.10/dist-packages (from classiq==0.48) (24.8.0)\n",
            "Requirement already satisfied: httpx<1,>=0.23.0 in /usr/local/lib/python3.10/dist-packages (from classiq==0.48) (0.27.2)\n",
            "Requirement already satisfied: keyring<24.0.0,>=23.5.0 in /usr/lib/python3/dist-packages (from classiq==0.48) (23.5.0)\n",
            "Requirement already satisfied: matplotlib<4.0.0,>=3.4.3 in /usr/local/lib/python3.10/dist-packages (from classiq==0.48) (3.7.1)\n",
            "Requirement already satisfied: networkx<3.0.0,>=2.5.1 in /usr/local/lib/python3.10/dist-packages (from classiq==0.48) (2.8.8)\n",
            "Requirement already satisfied: numexpr<3.0.0,>=2.7.3 in /usr/local/lib/python3.10/dist-packages (from classiq==0.48) (2.10.1)\n",
            "Requirement already satisfied: numpy<2.0.0,>=1.20.1 in /usr/local/lib/python3.10/dist-packages (from classiq==0.48) (1.26.4)\n",
            "Requirement already satisfied: packaging<24.0,>=23.2 in /usr/local/lib/python3.10/dist-packages (from classiq==0.48) (23.2)\n",
            "Requirement already satisfied: pandas<3.0.0,>=1.4.0 in /usr/local/lib/python3.10/dist-packages (from classiq==0.48) (2.1.4)\n",
            "Requirement already satisfied: plotly<6.0.0,>=5.7.0 in /usr/local/lib/python3.10/dist-packages (from classiq==0.48) (5.24.1)\n",
            "Requirement already satisfied: pydantic<2.0.0,>=1.9.1 in /usr/local/lib/python3.10/dist-packages (from classiq==0.48) (1.10.18)\n",
            "Requirement already satisfied: scipy<2.0.0,>=1.10.0 in /usr/local/lib/python3.10/dist-packages (from classiq==0.48) (1.13.1)\n",
            "Requirement already satisfied: sympy<2.0.0,>=1.13.0 in /usr/local/lib/python3.10/dist-packages (from classiq==0.48) (1.13.3)\n",
            "Requirement already satisfied: tabulate<1,>=0.8.9 in /usr/local/lib/python3.10/dist-packages (from classiq==0.48) (0.9.0)\n",
            "Requirement already satisfied: click>=8.0.0 in /usr/local/lib/python3.10/dist-packages (from black<25.0,>=24.0->classiq==0.48) (8.1.7)\n",
            "Requirement already satisfied: mypy-extensions>=0.4.3 in /usr/local/lib/python3.10/dist-packages (from black<25.0,>=24.0->classiq==0.48) (1.0.0)\n",
            "Requirement already satisfied: pathspec>=0.9.0 in /usr/local/lib/python3.10/dist-packages (from black<25.0,>=24.0->classiq==0.48) (0.12.1)\n",
            "Requirement already satisfied: platformdirs>=2 in /usr/local/lib/python3.10/dist-packages (from black<25.0,>=24.0->classiq==0.48) (4.3.6)\n",
            "Requirement already satisfied: tomli>=1.1.0 in /usr/local/lib/python3.10/dist-packages (from black<25.0,>=24.0->classiq==0.48) (2.0.1)\n",
            "Requirement already satisfied: typing-extensions>=4.0.1 in /usr/local/lib/python3.10/dist-packages (from black<25.0,>=24.0->classiq==0.48) (4.12.2)\n",
            "Requirement already satisfied: anyio in /usr/local/lib/python3.10/dist-packages (from httpx<1,>=0.23.0->classiq==0.48) (3.7.1)\n",
            "Requirement already satisfied: certifi in /usr/local/lib/python3.10/dist-packages (from httpx<1,>=0.23.0->classiq==0.48) (2024.8.30)\n",
            "Requirement already satisfied: httpcore==1.* in /usr/local/lib/python3.10/dist-packages (from httpx<1,>=0.23.0->classiq==0.48) (1.0.5)\n",
            "Requirement already satisfied: idna in /usr/local/lib/python3.10/dist-packages (from httpx<1,>=0.23.0->classiq==0.48) (3.10)\n",
            "Requirement already satisfied: sniffio in /usr/local/lib/python3.10/dist-packages (from httpx<1,>=0.23.0->classiq==0.48) (1.3.1)\n",
            "Requirement already satisfied: h11<0.15,>=0.13 in /usr/local/lib/python3.10/dist-packages (from httpcore==1.*->httpx<1,>=0.23.0->classiq==0.48) (0.14.0)\n",
            "Requirement already satisfied: contourpy>=1.0.1 in /usr/local/lib/python3.10/dist-packages (from matplotlib<4.0.0,>=3.4.3->classiq==0.48) (1.3.0)\n",
            "Requirement already satisfied: cycler>=0.10 in /usr/local/lib/python3.10/dist-packages (from matplotlib<4.0.0,>=3.4.3->classiq==0.48) (0.12.1)\n",
            "Requirement already satisfied: fonttools>=4.22.0 in /usr/local/lib/python3.10/dist-packages (from matplotlib<4.0.0,>=3.4.3->classiq==0.48) (4.53.1)\n",
            "Requirement already satisfied: kiwisolver>=1.0.1 in /usr/local/lib/python3.10/dist-packages (from matplotlib<4.0.0,>=3.4.3->classiq==0.48) (1.4.7)\n",
            "Requirement already satisfied: pillow>=6.2.0 in /usr/local/lib/python3.10/dist-packages (from matplotlib<4.0.0,>=3.4.3->classiq==0.48) (10.4.0)\n",
            "Requirement already satisfied: pyparsing>=2.3.1 in /usr/local/lib/python3.10/dist-packages (from matplotlib<4.0.0,>=3.4.3->classiq==0.48) (3.1.4)\n",
            "Requirement already satisfied: python-dateutil>=2.7 in /usr/local/lib/python3.10/dist-packages (from matplotlib<4.0.0,>=3.4.3->classiq==0.48) (2.8.2)\n",
            "Requirement already satisfied: pytz>=2020.1 in /usr/local/lib/python3.10/dist-packages (from pandas<3.0.0,>=1.4.0->classiq==0.48) (2024.2)\n",
            "Requirement already satisfied: tzdata>=2022.1 in /usr/local/lib/python3.10/dist-packages (from pandas<3.0.0,>=1.4.0->classiq==0.48) (2024.1)\n",
            "Requirement already satisfied: tenacity>=6.2.0 in /usr/local/lib/python3.10/dist-packages (from plotly<6.0.0,>=5.7.0->classiq==0.48) (9.0.0)\n",
            "Requirement already satisfied: ply in /usr/local/lib/python3.10/dist-packages (from Pyomo<6.6,>=6.5->classiq==0.48) (3.11)\n",
            "Requirement already satisfied: mpmath<1.4,>=1.1.0 in /usr/local/lib/python3.10/dist-packages (from sympy<2.0.0,>=1.13.0->classiq==0.48) (1.3.0)\n",
            "Requirement already satisfied: six>=1.5 in /usr/local/lib/python3.10/dist-packages (from python-dateutil>=2.7->matplotlib<4.0.0,>=3.4.3->classiq==0.48) (1.16.0)\n",
            "Requirement already satisfied: exceptiongroup in /usr/local/lib/python3.10/dist-packages (from anyio->httpx<1,>=0.23.0->classiq==0.48) (1.2.2)\n"
          ]
        }
      ],
      "source": [
        "!pip install classiq=={0.48}"
      ]
    },
    {
      "cell_type": "code",
      "source": [
        "import classiq\n",
        "classiq.authenticate()"
      ],
      "metadata": {
        "id": "ZoVxTzbsPC4L",
        "colab": {
          "base_uri": "https://localhost:8080/"
        },
        "outputId": "18d19c42-c278-40d6-e8eb-f9de9f96376a"
      },
      "execution_count": 12,
      "outputs": [
        {
          "output_type": "stream",
          "name": "stderr",
          "text": [
            "/usr/local/lib/python3.10/dist-packages/classiq/_internals/authentication/token_manager.py:100: UserWarning: Device is already registered.\n",
            "Generating a new refresh token should only be done if the current refresh token is compromised.\n",
            "To do so, set the overwrite parameter to true\n",
            "  warnings.warn(\n"
          ]
        }
      ]
    },
    {
      "cell_type": "markdown",
      "source": [
        "# Final solution!\n",
        "\n",
        "steps from the paper (case I where A is unitary)\n",
        "1. Encoding:\n",
        "\n",
        "* Prepare the initial state vectors\n",
        "∣x(0)⟩ and ∣b⟩.\n",
        "* The first ancilla qubit is used to encode the initial vectors.\n",
        "* A second ancilla register with\n",
        "T=log_2(k+1) qubits is used to store the approximation order k.\n",
        "\n",
        "2. Entanglement Creation:\n",
        "\n",
        "* Apply controlled operations to create entanglement between the work qubits (representing\n",
        "x(t)) and the ancilla qubits.\n",
        "* This uses the evolution operator\n",
        "𝑈_𝜏\n",
        "=\n",
        "𝑒^𝐴𝜏\n",
        " , which is applied in the subspace controlled by the second ancilla register.\n",
        "3. Decoding:\n",
        "\n",
        "* The encoding steps are reversed by applying inverse operations to bring the system back to the subspace\n",
        "∣0⟩ for all ancilla qubits.\n",
        "4. Measurement:\n",
        "* Measure the final state in the subspace where all ancilla qubits are\n",
        "∣0⟩."
      ],
      "metadata": {
        "id": "op8osyJJcs00"
      }
    },
    {
      "cell_type": "code",
      "source": [
        "from classiq import *\n",
        "\n",
        "# Step 1: Encoding of |x(0)> and |b>\n",
        "@qfunc\n",
        "def encoding(q: QArray[QBit], ancilla_1: QArray[QBit], ancilla_2: QArray[QBit]):\n",
        "    \"\"\"\n",
        "    Encoding step: Prepare initial state vectors |x(0)> and |b>.\n",
        "    First ancilla register encodes the initial state.\n",
        "    \"\"\"\n",
        "    # Prepare initial state |x(0)> and |b>\n",
        "    # Example: x(0) = |1> and b = |0>\n",
        "    H(q[0])  # Prepare superposition for x(0)\n",
        "    X(q[1])  # Set velocity v(0) = |1>\n",
        "\n",
        "    # Prepare ancilla_1 for |x(0)> and |b>\n",
        "    H(ancilla_1[0])  # Create superposition in ancilla_1\n",
        "\n",
        "    # Prepare the second ancilla register in superposition state to store approximation order (k=2 here)\n",
        "    H(ancilla_2[0])\n",
        "    H(ancilla_2[1])\n",
        "\n",
        "# Step 2: Entanglement Creation\n",
        "@qfunc\n",
        "def entanglement_creation(q: QArray[QBit], ancilla_1: QArray[QBit], ancilla_2: QArray[QBit]):\n",
        "    \"\"\"\n",
        "    Entanglement step: Apply controlled operations to create entanglement between the ancilla qubits\n",
        "    and the work qubits using the evolution operator Uτ.\n",
        "    \"\"\"\n",
        "    # Apply controlled operations based on ancilla states to create entanglement\n",
        "    for i in range(2):  # Assuming k=2 (second order approximation)\n",
        "        # Apply controlled CRY and CRX gates using Classiq's framework\n",
        "        CRY(0.5, ancilla_2[i], q[0])  # Controlled CRY on q[0] (position) with ancilla_2 as control\n",
        "        CRX(0.5, ancilla_2[i], q[1])  # Controlled CRX on q[1] (velocity) with ancilla_2 as control\n",
        "\n",
        "# Step 3: Decoding (Reverse the encoding step)\n",
        "@qfunc\n",
        "def decoding(q: QArray[QBit], ancilla_1: QArray[QBit], ancilla_2: QArray[QBit]):\n",
        "    \"\"\"\n",
        "    Decoding step: Apply inverse operations to bring the system back to the subspace where all ancilla qubits are |0>.\n",
        "    \"\"\"\n",
        "    # Reverse the operations applied in the encoding step\n",
        "    H(ancilla_2[0])\n",
        "    H(ancilla_2[1])\n",
        "    H(ancilla_1[0])\n",
        "\n",
        "# Main function combining all steps\n",
        "@qfunc\n",
        "def main(q: Output[QArray[QBit]], ancilla_1: Output[QArray[QBit]], ancilla_2: Output[QArray[QBit]]):\n",
        "    # Allocate qubits\n",
        "    allocate(2, q)  # Allocate 2 qubits for position and velocity\n",
        "    allocate(1, ancilla_1)  # First ancilla register\n",
        "    allocate(2, ancilla_2)  # Second ancilla register\n",
        "\n",
        "    # Apply encoding\n",
        "    encoding(q, ancilla_1, ancilla_2)\n",
        "\n",
        "    # Apply entanglement creation\n",
        "    entanglement_creation(q, ancilla_1, ancilla_2)\n",
        "\n",
        "    # Apply decoding (reverse the encoding)\n",
        "    decoding(q, ancilla_1, ancilla_2)\n"
      ],
      "metadata": {
        "id": "zY28lx-tWZeI"
      },
      "execution_count": 66,
      "outputs": []
    },
    {
      "cell_type": "code",
      "source": [
        "# Create the quantum model\n",
        "qmod = create_model(main)\n",
        "\n",
        "# Set optimization constraints (optional)\n",
        "constraints = Constraints(optimization_parameter=\"depth\", max_width=5)  # 2 main qubits + 3 ancilla qubits\n",
        "qmod = set_constraints(qmod, constraints)\n",
        "\n",
        "# Synthesize the quantum program\n",
        "qprog = synthesize(qmod)"
      ],
      "metadata": {
        "id": "ImuJ65mKWaGr"
      },
      "execution_count": 67,
      "outputs": []
    },
    {
      "cell_type": "code",
      "source": [
        "# This will run the quantum program and output the results directly in your Python environment.\n",
        "job = execute(qprog)\n",
        "results = job.result()[0].value.parsed_counts\n",
        "print(results)"
      ],
      "metadata": {
        "colab": {
          "base_uri": "https://localhost:8080/"
        },
        "id": "3TT1b3OnbUrW",
        "outputId": "ad0765d1-87c4-4103-9d6d-bd12fef9bf38"
      },
      "execution_count": 68,
      "outputs": [
        {
          "output_type": "stream",
          "name": "stdout",
          "text": [
            "[{'q': [1, 1], 'ancilla_1': [0], 'ancilla_2': [0, 0]}: 1288, {'q': [0, 1], 'ancilla_1': [0], 'ancilla_2': [0, 0]}: 520, {'q': [1, 0], 'ancilla_1': [0], 'ancilla_2': [0, 0]}: 104, {'q': [1, 0], 'ancilla_1': [0], 'ancilla_2': [1, 0]}: 31, {'q': [0, 1], 'ancilla_1': [0], 'ancilla_2': [1, 0]}: 31, {'q': [1, 0], 'ancilla_1': [0], 'ancilla_2': [0, 1]}: 28, {'q': [0, 1], 'ancilla_1': [0], 'ancilla_2': [0, 1]}: 23, {'q': [0, 0], 'ancilla_1': [0], 'ancilla_2': [0, 0]}: 16, {'q': [1, 1], 'ancilla_1': [0], 'ancilla_2': [1, 1]}: 3, {'q': [1, 1], 'ancilla_1': [0], 'ancilla_2': [0, 1]}: 2, {'q': [0, 0], 'ancilla_1': [0], 'ancilla_2': [1, 1]}: 1, {'q': [0, 0], 'ancilla_1': [0], 'ancilla_2': [1, 0]}: 1]\n"
          ]
        }
      ]
    },
    {
      "cell_type": "markdown",
      "source": [
        "## Explanation of result\n",
        "\n",
        "Output Breakdown:\n",
        "1. Structure: The output consists of measurement outcomes for the qubits q (representing the work system: position and velocity), ancilla_1, and ancilla_2 (the ancillary registers controlling the time evolution). Each outcome shows the number of times that specific state occurred in the simulation.\n",
        "\n",
        "For example:\n",
        "\n",
        "* {'q': [1, 1], 'ancilla_1': [0], 'ancilla_2': [0, 0]}: 1288\n",
        "\n",
        "  * This means the state of the work qubits\n",
        "q (position and velocity) is\n",
        "[1,1], the first ancilla\n",
        "ancilla_1 is [0], and the second ancilla register ancilla_2 is [0,0] in 1288 out of all the simulation runs.\n",
        "\n",
        "###Interpretation:\n",
        "* Work Qubits (q): The two qubits represent the position and velocity:\n",
        "  * q[0]=1 represents position x(t)=1,\n",
        "  * q[1]=1 represents velocity v(t)=1.\n",
        "We observe states like [1, 1], [0, 1], [1, 0], etc., representing various combinations of position and velocity.\n",
        "\n",
        "* Ancilla Registers (ancilla_1 and ancilla_2):\n",
        "\n",
        "  * ancilla_1 is mostly in state [0], meaning that the final state measured for this register predominantly remained in the ∣0⟩ state, as expected for the algorithm’s final subspace measurement.\n",
        "  * ancilla_2 (which has two qubits) controls the evolution steps. We see states like [0, 0], [1, 0], [0, 1], and [1, 1], representing the different evolution steps that contributed to the outcome.\n",
        "\n",
        "###What the Output Suggests:\n",
        "* Dominant States:\n",
        "\n",
        "  * q = [1, 1] with ancilla_2 = [0, 0] occurred 1288 times. This suggests that, after the entanglement and decoding steps, the system most frequently evolves to a state where both position and velocity are 1 (high displacement and velocity).\n",
        "  * q = [0, 1] with ancilla_2 = [0, 0] occurred 520 times. This suggests that the system often evolves to a state where the velocity is high, but the position is low.\n",
        "* These outcomes make sense in the context of the harmonic oscillator, where the system should oscillate between high position and velocity values.\n",
        "\n",
        "* Lower Frequency States:\n",
        "\n",
        "  * States like q = [1, 1] with ancilla_2 = [1, 1] occurred only 3 times, indicating that some evolution paths controlled by the ancilla qubits (for example, [1,1]) were less likely to contribute to the final measured state.\n",
        "  * These lower-probability outcomes might represent rarer time-evolution steps in the entanglement and decoding process.\n",
        "\n",
        "## Does This Make Sense?\n",
        "Yes, this makes sense given the nature of the harmonic oscillator and the quantum algorithm:\n",
        "\n",
        "1. Expected Oscillatory Behavior:\n",
        "  * The harmonic oscillator alternates between high values for position and velocity, and the quantum algorithm reflects this in the dominant measured states like\n",
        "[1,1], [0,1], and [1,0].\n",
        "  * The algorithm's goal is to simulate the time evolution of the system, and the frequent measurement of states where both position and velocity are high aligns with the expected oscillatory behavior.\n",
        "2. Ancilla Outcomes:\n",
        "* The ancilla registers control the evolution and help create entanglement between the position/velocity qubits and time steps. The fact that most ancilla states are\n",
        "[0,0] indicates that the system largely evolves in a predictable manner (early time steps), but the presence of states like\n",
        "[1,0] and\n",
        "[1,1] shows that other time steps also contribute, though less frequently.\n",
        "\n",
        "3. Subspace Projection:\n",
        "\n",
        "* The final measurement ensures that we project into the subspace where all ancilla qubits are\n",
        "∣0⟩. The fact that ancilla_1 mostly remains\n",
        "[0] and ancilla_2 often remains\n",
        "[0,0] suggests that the algorithm correctly implemented the projection into this subspace, as required by the quantum algorithm for solving LDEs.\n",
        "\n",
        "###Conclusion:\n",
        "The output aligns with the expected behavior of the harmonic oscillator and the structure of the quantum algorithm. The frequent occurrence of high position/velocity states and the varying ancilla qubit outcomes indicate that the algorithm is simulating the time evolution of the harmonic oscillator correctly, with projection into the desired subspace. The lower-frequency states represent less probable outcomes, as expected for a quantum system."
      ],
      "metadata": {
        "id": "x_K-h1Q-dJc7"
      }
    },
    {
      "cell_type": "markdown",
      "source": [
        "#Saving files"
      ],
      "metadata": {
        "id": "STMNtaOSh9Z_"
      }
    },
    {
      "cell_type": "code",
      "source": [
        "file_name_qprog= 'qsite_classiq_open_challenge'\n",
        "file_name_qmod = 'qsite_classiq_open_challenge'\n",
        "\n",
        "def save_new_file(program_to_save,file_name):\n",
        "    '''\n",
        "    A simple function that saves your code as a text file\n",
        "    '''\n",
        "    file = open(file_name,\"w\")\n",
        "    file.write(program_to_save)\n",
        "    file.close()\n",
        "\n",
        "save_new_file(qmod, file_name_qmod+'.qmod')\n",
        "save_new_file(qprog, file_name_qprog+'.qprog')"
      ],
      "metadata": {
        "id": "KAHHRBHKhvnK"
      },
      "execution_count": 72,
      "outputs": []
    }
  ]
}