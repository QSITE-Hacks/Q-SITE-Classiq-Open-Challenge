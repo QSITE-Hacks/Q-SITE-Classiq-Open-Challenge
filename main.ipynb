{
 "cells": [
  {
   "cell_type": "code",
   "execution_count": 21,
   "metadata": {},
   "outputs": [],
   "source": [
    "from classiq import *\n",
    "import math"
   ]
  },
  {
   "cell_type": "markdown",
   "metadata": {},
   "source": [
    "# Superposition Squad\n",
    "DE: $y'' + y  = 0$ -> $\\mathcal{M} = \\begin{bmatrix} 0 & 1\\\\ -1 & 0 \\end{bmatrix}$, $x(0) = \\begin{bmatrix} 1 \\\\ 1 \\end{bmatrix}$"
   ]
  },
  {
   "cell_type": "code",
   "execution_count": 27,
   "metadata": {},
   "outputs": [],
   "source": [
    "# TODO Initialize ancilla registers with the correct quantum states\n",
    "# NOTE Our b vector is zero, therefore C-V_S2 and C-U_b do not need to be implemented, but could be for future purposes\n",
    "\n",
    "@qfunc\n",
    "def main(ancilla_reg_1: Output[QBit], ancilla_reg_2: Output[QArray[QBit]], work_reg: Output[QArray[QBit]]):\n",
    "   k = 5 # Accuracy of results, free to change\n",
    "   T = math.floor(math.log2(k+1))\n",
    "\n",
    "   allocate(1, ancilla_reg_1)\n",
    "   allocate(T, ancilla_reg_2)\n",
    "   allocate(2, work_reg) # 2x2 matrix, will change for higher order ODEs if we get to it\n",
    "   \n",
    "   prepare_ancilla_regs(ancilla_reg_1, ancilla_reg_2)\n",
    "   encode_x0(ancilla_reg_1, work_reg)\n",
    "\n",
    "# TODO Create the gate C-V_S1 and apply it to prepare the ancilla qubits\n",
    "@qfunc\n",
    "def prepare_ancilla_regs(ancilla_reg_1: QBit, ancilla_reg_2: QArray[QBit]):\n",
    "   pass\n",
    "\n",
    "# TODO Create the gast C-Ux and apply it to encode |x0> into the work register\n",
    "@qfunc\n",
    "def encode_x0(ancilla_reg_1: QBit, work_reg: QArray[QBit]):\n",
    "   pass\n",
    "\n"
   ]
  },
  {
   "cell_type": "code",
   "execution_count": 28,
   "metadata": {},
   "outputs": [],
   "source": [
    "# View circuit on Classiq IDE\n",
    "qmod = create_model(main)\n",
    "qprog = synthesize(qmod)\n",
    "show(qprog)"
   ]
  }
 ],
 "metadata": {
  "kernelspec": {
   "display_name": ".venv",
   "language": "python",
   "name": "python3"
  },
  "language_info": {
   "codemirror_mode": {
    "name": "ipython",
    "version": 3
   },
   "file_extension": ".py",
   "mimetype": "text/x-python",
   "name": "python",
   "nbconvert_exporter": "python",
   "pygments_lexer": "ipython3",
   "version": "3.11.10"
  }
 },
 "nbformat": 4,
 "nbformat_minor": 2
}
