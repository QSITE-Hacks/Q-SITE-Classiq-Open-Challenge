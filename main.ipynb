{
 "cells": [
  {
   "cell_type": "code",
   "execution_count": 2,
   "metadata": {},
   "outputs": [],
   "source": [
    "from classiq import *\n",
    "import numpy as np"
   ]
  },
  {
   "cell_type": "markdown",
   "metadata": {},
   "source": [
    "# Superposition Squad\n",
    "DE: $y'' + y  = 0$ -> $\\mathcal{M} = \\begin{bmatrix} 0 & 1\\\\ -1 & 0 \\end{bmatrix}$, $x(0) = \\begin{bmatrix} 1 \\\\ 1 \\end{bmatrix}$"
   ]
  },
  {
   "cell_type": "code",
   "execution_count": 5,
   "metadata": {},
   "outputs": [],
   "source": [
    "# TODO Initialize ancilla registers with the correct quantum states\n",
    "\n",
    "@qfunc\n",
    "def init_ancilla_reg1(ancilla1):\n",
    "   allocate(1, ancilla1)\n",
    "\n",
    "@qfunc\n",
    "def init_ancilla_reg2(ancillareg2):\n",
    "   allocate(0, ancillareg2)"
   ]
  },
  {
   "cell_type": "code",
   "execution_count": null,
   "metadata": {},
   "outputs": [],
   "source": []
  }
 ],
 "metadata": {
  "kernelspec": {
   "display_name": ".venv",
   "language": "python",
   "name": "python3"
  },
  "language_info": {
   "codemirror_mode": {
    "name": "ipython",
    "version": 3
   },
   "file_extension": ".py",
   "mimetype": "text/x-python",
   "name": "python",
   "nbconvert_exporter": "python",
   "pygments_lexer": "ipython3",
   "version": "3.11.10"
  }
 },
 "nbformat": 4,
 "nbformat_minor": 2
}
